{
 "cells": [
  {
   "cell_type": "markdown",
   "metadata": {
    "ignored": true
   },
   "source": [
    "# Inferencia Estadística\n",
    "## Tarea 1\n",
    "\n",
    "### Autor:\n",
    "- [Sergio García Prado](https://garciparedes.me)"
   ]
  },
  {
   "cell_type": "code",
   "execution_count": 1,
   "metadata": {
    "ignored": true
   },
   "outputs": [],
   "source": [
    "rm(list = ls())"
   ]
  },
  {
   "cell_type": "code",
   "execution_count": 2,
   "metadata": {
    "ignored": true
   },
   "outputs": [],
   "source": [
    "library(magrittr)\n",
    "library(IRdisplay, warn.conflicts = FALSE)\n",
    "library(dplyr, warn.conflicts = FALSE)\n",
    "library(Bhat)\n",
    "library(ggplot2)\n",
    "library(reshape2)"
   ]
  },
  {
   "cell_type": "code",
   "execution_count": 3,
   "metadata": {},
   "outputs": [],
   "source": [
    "options(repr.plot.width=8, repr.plot.height=5)"
   ]
  },
  {
   "cell_type": "markdown",
   "metadata": {},
   "source": [
    "# Se lanzan seis monedas en cien ocasiones y se anota el número de caras en cada lanzamiento. Los resultados fueron:"
   ]
  },
  {
   "cell_type": "code",
   "execution_count": 4,
   "metadata": {},
   "outputs": [],
   "source": [
    "coins <- data.frame(hits = c(0, 1, 2, 3, 4, 5, 6),\n",
    "                    freq = c(2, 8, 10, 12, 16, 30, 22))"
   ]
  },
  {
   "cell_type": "code",
   "execution_count": 5,
   "metadata": {},
   "outputs": [
    {
     "data": {
      "text/html": [
       "<table>\n",
       "<tbody>\n",
       "\t<tr><th scope=row>Número de caras</th><td>0 </td><td>1 </td><td> 2</td><td> 3</td><td> 4</td><td> 5</td><td> 6</td></tr>\n",
       "\t<tr><th scope=row>Frecuencias</th><td>2 </td><td>8 </td><td>10</td><td>12</td><td>16</td><td>30</td><td>22</td></tr>\n",
       "</tbody>\n",
       "</table>\n"
      ],
      "text/latex": [
       "\\begin{tabular}{r|lllllll}\n",
       "\tNúmero de caras & 0  & 1  &  2 &  3 &  4 &  5 &  6\\\\\n",
       "\tFrecuencias & 2  & 8  & 10 & 12 & 16 & 30 & 22\\\\\n",
       "\\end{tabular}\n"
      ],
      "text/markdown": [
       "\n",
       "| Número de caras | 0  | 1  |  2 |  3 |  4 |  5 |  6 | \n",
       "| Frecuencias | 2  | 8  | 10 | 12 | 16 | 30 | 22 | \n",
       "\n",
       "\n"
      ],
      "text/plain": [
       "                [,1] [,2] [,3] [,4] [,5] [,6] [,7]\n",
       "Número de caras 0    1     2    3    4    5    6  \n",
       "Frecuencias     2    8    10   12   16   30   22  "
      ]
     },
     "metadata": {},
     "output_type": "display_data"
    }
   ],
   "source": [
    "coins %>% \n",
    "    set_colnames(c('Número de caras', 'Frecuencias')) %>% \n",
    "    t() %>% \n",
    "    display()"
   ]
  },
  {
   "cell_type": "markdown",
   "metadata": {},
   "source": [
    "## Obtener el $pvalor$ del test de razón de verosimilitud para contrastar la siguiente hipótesis:\n",
    "$$H_0: \\text{Todas las monedas tienen la misma probabilidad de cara}$$"
   ]
  },
  {
   "cell_type": "markdown",
   "metadata": {},
   "source": [
    "Vamos a definir las siguientes variables aleatorias: \n",
    "\n",
    "$$Y_1,..., Y_6 \\ iid \\quad | \\ Y_i \\sim Bin(n, p_i)$$\n",
    "\n",
    "Donde $n = 100$ es el número de realizaciones de la muestra, tal y como se indica en el enunciado y la variable $Y_i$ representa el *número de caras obtenidas por la moneda i-ésima*. Por tanto, el contraste se puede reescribir utilizando esta notación de tal manera que la hipótesis sea:\n",
    "$$H_0: p_i = p_j \\quad \\forall i, j \\in \\{1,..., 6\\}$$\n",
    "\n",
    "Por la propiedad de independencia de las variables $Y_i$ entre si, podemos redefinir dicho test apoyándonos en:\n",
    "\n",
    "$$X_0 = \\sum_{i = 1} ^ 6 Y_i \\sim Bin(m, p_0)$$\n",
    "\n",
    "Donde $m = n * 6 = 600$ y $p_0 = p_i \\forall i, \\in \\{1, ..., 6\\}$ Por lo tanto, podemos redefinir el contraste como de bondad de ajuste, donde la hipótesis nula se transforma en:\n",
    "\n",
    "$$H_0: x \\sim X_0$$\n",
    "\n",
    "Frente a la hipótesis nula de que el vector observado $x$ se distribuye de manera diferente. \n",
    "\n",
    "Para contrastar esta hipótesis utilizaremos un *test G (o test $\\chi^2$)* basado en la comparación entre frecuencias observadas y esperadas, para lo cual nos apoyaremos en la distribución multinomial.\n",
    "\n",
    "Para ello, lo primeo es calcular el número de observaciones:"
   ]
  },
  {
   "cell_type": "code",
   "execution_count": 6,
   "metadata": {},
   "outputs": [],
   "source": [
    "m <- coins %>%\n",
    "    summarise((max(hits) * sum(freq))) %>%\n",
    "    pull()"
   ]
  },
  {
   "cell_type": "code",
   "execution_count": 7,
   "metadata": {},
   "outputs": [
    {
     "data": {
      "text/latex": [
       "$$m = 600$$"
      ]
     },
     "metadata": {},
     "output_type": "display_data"
    }
   ],
   "source": [
    "display_latex(paste0('$$m = ', m, '$$'))"
   ]
  },
  {
   "cell_type": "markdown",
   "metadata": {},
   "source": [
    "Puesto que vamos a realizar el test utilizando frecuencias relativas, es necesario calcular estas sobre los datos observados"
   ]
  },
  {
   "cell_type": "code",
   "execution_count": 8,
   "metadata": {},
   "outputs": [],
   "source": [
    "coins <- coins %>%\n",
    "    mutate(freq.rel = freq / sum(freq))"
   ]
  },
  {
   "cell_type": "code",
   "execution_count": 9,
   "metadata": {},
   "outputs": [
    {
     "data": {
      "text/html": [
       "<table>\n",
       "<tbody>\n",
       "\t<tr><th scope=row>Número de caras</th><td>0.00 </td><td>1.00 </td><td> 2.0 </td><td> 3.00</td><td> 4.00</td><td> 5.0 </td><td> 6.00</td></tr>\n",
       "\t<tr><th scope=row>Frecuencias</th><td>2.00 </td><td>8.00 </td><td>10.0 </td><td>12.00</td><td>16.00</td><td>30.0 </td><td>22.00</td></tr>\n",
       "\t<tr><th scope=row>Frecuencias Relativas</th><td>0.02 </td><td>0.08 </td><td> 0.1 </td><td> 0.12</td><td> 0.16</td><td> 0.3 </td><td> 0.22</td></tr>\n",
       "</tbody>\n",
       "</table>\n"
      ],
      "text/latex": [
       "\\begin{tabular}{r|lllllll}\n",
       "\tNúmero de caras & 0.00  & 1.00  &  2.0  &  3.00 &  4.00 &  5.0  &  6.00\\\\\n",
       "\tFrecuencias & 2.00  & 8.00  & 10.0  & 12.00 & 16.00 & 30.0  & 22.00\\\\\n",
       "\tFrecuencias Relativas & 0.02  & 0.08  &  0.1  &  0.12 &  0.16 &  0.3  &  0.22\\\\\n",
       "\\end{tabular}\n"
      ],
      "text/markdown": [
       "\n",
       "| Número de caras | 0.00  | 1.00  |  2.0  |  3.00 |  4.00 |  5.0  |  6.00 | \n",
       "| Frecuencias | 2.00  | 8.00  | 10.0  | 12.00 | 16.00 | 30.0  | 22.00 | \n",
       "| Frecuencias Relativas | 0.02  | 0.08  |  0.1  |  0.12 |  0.16 |  0.3  |  0.22 | \n",
       "\n",
       "\n"
      ],
      "text/plain": [
       "                      [,1] [,2] [,3] [,4]  [,5]  [,6] [,7] \n",
       "Número de caras       0.00 1.00  2.0  3.00  4.00  5.0  6.00\n",
       "Frecuencias           2.00 8.00 10.0 12.00 16.00 30.0 22.00\n",
       "Frecuencias Relativas 0.02 0.08  0.1  0.12  0.16  0.3  0.22"
      ]
     },
     "metadata": {},
     "output_type": "display_data"
    }
   ],
   "source": [
    "coins %>% \n",
    "    set_colnames(c('Número de caras', 'Frecuencias', 'Frecuencias Relativas')) %>% \n",
    "    t() %>% \n",
    "    round(digits = 3) %>%\n",
    "    display()"
   ]
  },
  {
   "cell_type": "markdown",
   "metadata": {},
   "source": [
    "El siguiente paso es obtener el *Estimador Máximo Verosimil* bajo la hipótesis nula:"
   ]
  },
  {
   "cell_type": "code",
   "execution_count": 10,
   "metadata": {},
   "outputs": [],
   "source": [
    "p.zero.hat <- coins %>%\n",
    "    mutate(total = freq * hits) %>%\n",
    "    summarise(sum(total) / m) %>%\n",
    "    pull()"
   ]
  },
  {
   "cell_type": "code",
   "execution_count": 11,
   "metadata": {},
   "outputs": [
    {
     "data": {
      "text/latex": [
       "$$\\hat{p}_0 = 0.6833$$"
      ]
     },
     "metadata": {},
     "output_type": "display_data"
    }
   ],
   "source": [
    "display_latex(paste0('$$\\\\hat{p}_0 = ', round(p.zero.hat, digits = 4), '$$'))"
   ]
  },
  {
   "cell_type": "markdown",
   "metadata": {},
   "source": [
    "Una vez hemos calculado el *EMV* bajo la hipótesis nula, ya podemos calcular el las frecuencias esperadas que deberían seguir nuestras observaciones aproximadamente para poder verificar que todas ellas pertenencen a una misma distribución Binomial con parámetro $p_0$."
   ]
  },
  {
   "cell_type": "code",
   "execution_count": 12,
   "metadata": {},
   "outputs": [],
   "source": [
    "coins <- coins %>%\n",
    "    mutate(expected.freq.rel = dbinom(0:6, n(), p.zero.hat))"
   ]
  },
  {
   "cell_type": "code",
   "execution_count": 13,
   "metadata": {},
   "outputs": [
    {
     "data": {
      "text/html": [
       "<table>\n",
       "<tbody>\n",
       "\t<tr><th scope=row>Número de caras</th><td>0.00  </td><td>1.000 </td><td> 2.000</td><td> 3.000</td><td> 4.000</td><td> 5.000</td><td> 6.000</td></tr>\n",
       "\t<tr><th scope=row>Frecuencias</th><td>2.00  </td><td>8.000 </td><td>10.000</td><td>12.000</td><td>16.000</td><td>30.000</td><td>22.000</td></tr>\n",
       "\t<tr><th scope=row>Frecuencias Relativas</th><td>0.02  </td><td>0.080 </td><td> 0.100</td><td> 0.120</td><td> 0.160</td><td> 0.300</td><td> 0.220</td></tr>\n",
       "\t<tr><th scope=row>Frecuencias Relativas Esperadas</th><td>0.00  </td><td>0.005 </td><td> 0.031</td><td> 0.112</td><td> 0.242</td><td> 0.314</td><td> 0.226</td></tr>\n",
       "</tbody>\n",
       "</table>\n"
      ],
      "text/latex": [
       "\\begin{tabular}{r|lllllll}\n",
       "\tNúmero de caras & 0.00   & 1.000  &  2.000 &  3.000 &  4.000 &  5.000 &  6.000\\\\\n",
       "\tFrecuencias & 2.00   & 8.000  & 10.000 & 12.000 & 16.000 & 30.000 & 22.000\\\\\n",
       "\tFrecuencias Relativas & 0.02   & 0.080  &  0.100 &  0.120 &  0.160 &  0.300 &  0.220\\\\\n",
       "\tFrecuencias Relativas Esperadas & 0.00   & 0.005  &  0.031 &  0.112 &  0.242 &  0.314 &  0.226\\\\\n",
       "\\end{tabular}\n"
      ],
      "text/markdown": [
       "\n",
       "| Número de caras | 0.00   | 1.000  |  2.000 |  3.000 |  4.000 |  5.000 |  6.000 | \n",
       "| Frecuencias | 2.00   | 8.000  | 10.000 | 12.000 | 16.000 | 30.000 | 22.000 | \n",
       "| Frecuencias Relativas | 0.02   | 0.080  |  0.100 |  0.120 |  0.160 |  0.300 |  0.220 | \n",
       "| Frecuencias Relativas Esperadas | 0.00   | 0.005  |  0.031 |  0.112 |  0.242 |  0.314 |  0.226 | \n",
       "\n",
       "\n"
      ],
      "text/plain": [
       "                                [,1] [,2]  [,3]   [,4]   [,5]   [,6]   [,7]  \n",
       "Número de caras                 0.00 1.000  2.000  3.000  4.000  5.000  6.000\n",
       "Frecuencias                     2.00 8.000 10.000 12.000 16.000 30.000 22.000\n",
       "Frecuencias Relativas           0.02 0.080  0.100  0.120  0.160  0.300  0.220\n",
       "Frecuencias Relativas Esperadas 0.00 0.005  0.031  0.112  0.242  0.314  0.226"
      ]
     },
     "metadata": {},
     "output_type": "display_data"
    }
   ],
   "source": [
    "coins %>% \n",
    "    set_colnames(c('Número de caras', 'Frecuencias', 'Frecuencias Relativas',\n",
    "                   'Frecuencias Relativas Esperadas')) %>% \n",
    "    t() %>% \n",
    "    round(digits = 3) %>%\n",
    "    display()"
   ]
  },
  {
   "cell_type": "markdown",
   "metadata": {},
   "source": [
    "El siguiente paso es obtener el estadístico test G. Este se obtiene a partir del test de razón de verosimilitud de la siguiente forma:\n",
    "\n",
    "Sea:\n",
    "\n",
    "$$L(p; x_1,..., x_m) \\propto  p ^ {\\sum x_i} \\cdot (1 - p) ^ {m - \\sum x_i}$$\n",
    "\n",
    "Por lo que:\n",
    "\n",
    "\n",
    "$$logL(p; x_1,..., x_m) \\propto  \\sum x_i \\cdot log(p) +(m - \\sum x_i) \\cdot log(1 - p)$$\n",
    "\n",
    "El estadístico test de razón de verosimilitud se puede escribir por tanto como:\n",
    "\n",
    "\\begin{align*}\n",
    "  G \n",
    "  &=  - 2 \\cdot log\\left(\\Delta(x_1,..., x_m)\\right) \\\\\n",
    "  &=  - 2 \\cdot log\\left(\\frac{L(\\hat{p}_0; x_1,..., x_m)}{L(\\hat{p}_{obs}; x_1,..., x_m)}\\right) \\\\\n",
    "  &=  2 \\cdot \\left(L(\\hat{p}_{obs}; x_1,..., x_m) - L(\\hat{p}_{0}; x_1,..., x_m)\\right)  \\\\\n",
    "  &=  2 \\cdot \\sum_i y_i \\cdot log\\left(\\frac{\\hat{p}_{obs,i}}{\\hat{p}_{0,i}}\\right) \n",
    "\\end{align*}"
   ]
  },
  {
   "cell_type": "code",
   "execution_count": 14,
   "metadata": {},
   "outputs": [],
   "source": [
    "G <- coins %>%\n",
    "    summarise(2 * sum(freq.rel * log(freq / expected.freq.rel))) %>%\n",
    "    pull()"
   ]
  },
  {
   "cell_type": "code",
   "execution_count": 15,
   "metadata": {},
   "outputs": [
    {
     "data": {
      "text/latex": [
       "$$G = 9.903$$"
      ]
     },
     "metadata": {},
     "output_type": "display_data"
    }
   ],
   "source": [
    "display_latex(paste0('$$G = ', round(G, 4), '$$'))"
   ]
  },
  {
   "cell_type": "markdown",
   "metadata": {},
   "source": [
    "Entonces, para calcular el $pvalor$ del test, basta comparar este estadístico con su distribución bajo $H_0$, en este caso una $\\chi^2$ con $7 - 1 = 6$ grados de libertad, ya que el espacio parámetrico de partida es de $7$ valores, mientras que bajo la hipótesis nula, este queda reducido a $1$ único parámetro. Por tanto:\n",
    "\n",
    "$$pvalor = P(G \\geq \\chi_6^2)$$"
   ]
  },
  {
   "cell_type": "code",
   "execution_count": 16,
   "metadata": {},
   "outputs": [],
   "source": [
    "pvalue <- 1 - pchisq(G, df=6)"
   ]
  },
  {
   "cell_type": "code",
   "execution_count": 17,
   "metadata": {},
   "outputs": [
    {
     "data": {
      "text/latex": [
       "$$pvalor = 0.1288$$"
      ]
     },
     "metadata": {},
     "output_type": "display_data"
    }
   ],
   "source": [
    "display_latex(paste0('$$pvalor = ', round(pvalue, 4), '$$'))"
   ]
  },
  {
   "cell_type": "markdown",
   "metadata": {},
   "source": [
    "Tal y como indica el $pvalor$, a con una confianza del $95\\%$ no tenemos indicios suficientes como para rechazar la hipótesis de que todas las observaciones obtenidas provienen todas ellas de una distribución de $6$ monedas, todas ellas distribuidas de la misma forma (igual tasa de acierto)."
   ]
  },
  {
   "cell_type": "markdown",
   "metadata": {},
   "source": [
    "A continuación se muestra un gráfico de barras que representa de manera conjunta las frecuencias observadas y esperadas:"
   ]
  },
  {
   "cell_type": "code",
   "execution_count": 18,
   "metadata": {},
   "outputs": [
    {
     "data": {},
     "metadata": {},
     "output_type": "display_data"
    },
    {
     "data": {
      "image/png": "[encoded data removed]",
      "text/plain": [
       "plot without title"
      ]
     },
     "metadata": {},
     "output_type": "display_data"
    }
   ],
   "source": [
    "coins %>%\n",
    "select(hits, freq.rel, expected.freq.rel) %>% \n",
    "set_names(c('hits', 'Frecuencias Observadas', 'Frecuencias Esperadas')) %>%\n",
    "melt(id.vars='hits') %>%\n",
    "ggplot(aes(x=hits, y=value, fill=variable)) +\n",
    "    geom_bar(stat='identity', position='dodge', alpha = .8) + \n",
    "    scale_fill_manual(values=c(\"grey20\", \"grey60\")) + \n",
    "    theme_bw() +\n",
    "    theme(legend.position=\"top\", legend.title=element_blank())\n"
   ]
  },
  {
   "cell_type": "markdown",
   "metadata": {},
   "source": [
    "## En el modelo que define la hipótesis nula obtener intervalos de confianza ($95\\%$) para el parámetro, basados en los estadísticos de *Wald (W)* y de *razón de verosimilitud (VR)*."
   ]
  },
  {
   "cell_type": "code",
   "execution_count": 19,
   "metadata": {},
   "outputs": [],
   "source": [
    "alpha <- 0.05"
   ]
  },
  {
   "cell_type": "markdown",
   "metadata": {},
   "source": [
    "Cálculo por ecuación explícita"
   ]
  },
  {
   "cell_type": "code",
   "execution_count": 20,
   "metadata": {},
   "outputs": [],
   "source": [
    "W.var <- p.zero.hat * (1 - p.zero.hat) / m\n",
    "W.IC <- p.zero.hat + c(-1, 1) * qnorm(1 - alpha / 2) * sqrt(W.var)"
   ]
  },
  {
   "cell_type": "code",
   "execution_count": 21,
   "metadata": {},
   "outputs": [
    {
     "data": {
      "text/latex": [
       "$$\\left(0.64611, 0.72055\\right)$$"
      ]
     },
     "metadata": {},
     "output_type": "display_data"
    }
   ],
   "source": [
    "display_latex(paste0('$$\\\\left(', round(W.IC[1], 5), ', ', round(W.IC[2], 5) , '\\\\right)$$'))"
   ]
  },
  {
   "cell_type": "markdown",
   "metadata": {},
   "source": [
    "Cálculo por optimización numérica"
   ]
  },
  {
   "cell_type": "code",
   "execution_count": 22,
   "metadata": {},
   "outputs": [],
   "source": [
    "nloglhood <- function(p, n = 600, y = 410) {\n",
    "    return( -(log(choose(n, y)) + y * log(p) + (n - y) *log(1 - p)) )\n",
    "}"
   ]
  },
  {
   "cell_type": "code",
   "execution_count": 23,
   "metadata": {},
   "outputs": [],
   "source": [
    "opt <- optim(0.5, nloglhood,lower = 0.0001,upper = 0.9999, \n",
    "             hessian = TRUE, method = \"L-BFGS-B\")\n",
    "phat <- opt$par\n",
    "phat.var <- as.numeric(1 / opt$hessian)"
   ]
  },
  {
   "cell_type": "code",
   "execution_count": 24,
   "metadata": {},
   "outputs": [
    {
     "data": {
      "text/html": [
       "<ol class=list-inline>\n",
       "\t<li>0.646111848300026</li>\n",
       "\t<li>0.720553688712397</li>\n",
       "</ol>\n"
      ],
      "text/latex": [
       "\\begin{enumerate*}\n",
       "\\item 0.646111848300026\n",
       "\\item 0.720553688712397\n",
       "\\end{enumerate*}\n"
      ],
      "text/markdown": [
       "1. 0.646111848300026\n",
       "2. 0.720553688712397\n",
       "\n",
       "\n"
      ],
      "text/plain": [
       "[1] 0.6461118 0.7205537"
      ]
     },
     "metadata": {},
     "output_type": "display_data"
    }
   ],
   "source": [
    "phat + c(-1, 1) * qnorm(1 - alpha / 2) * sqrt(phat.var)"
   ]
  },
  {
   "cell_type": "code",
   "execution_count": 25,
   "metadata": {},
   "outputs": [],
   "source": [
    "control.list=list(label=\"p\",est=p.zero.hat,low=0,upp=1)\n",
    "invisible(capture.output(LR.ci <- plkhci(control.list, nloglhood, \"p\")))"
   ]
  },
  {
   "cell_type": "code",
   "execution_count": 26,
   "metadata": {},
   "outputs": [
    {
     "data": {
      "text/html": [
       "<ol class=list-inline>\n",
       "\t<li>0.645386613311019</li>\n",
       "\t<li>0.719718791742196</li>\n",
       "</ol>\n"
      ],
      "text/latex": [
       "\\begin{enumerate*}\n",
       "\\item 0.645386613311019\n",
       "\\item 0.719718791742196\n",
       "\\end{enumerate*}\n"
      ],
      "text/markdown": [
       "1. 0.645386613311019\n",
       "2. 0.719718791742196\n",
       "\n",
       "\n"
      ],
      "text/plain": [
       "[1] 0.6453866 0.7197188"
      ]
     },
     "metadata": {},
     "output_type": "display_data"
    }
   ],
   "source": [
    "LR.ci"
   ]
  },
  {
   "cell_type": "markdown",
   "metadata": {},
   "source": [
    "# Considerar el vector aleatorio $X = (X_1, ..., X_5)$ \n",
    "\n",
    "Supongamos que $X$ se distribuye sobre una distribución multinomial, tal que:\n",
    "\n",
    "$$X \\sim multinomial\\left(n, \\left(\\frac{1}{2}, \\frac{\\theta}{4}, \\frac{1 - \\theta}{4}, \\frac{1 - \\theta}{4}, \\frac{\\theta}{4}\\right)\\right)$$\n",
    "\n",
    "Se define el vector aleatorio \n",
    "\n",
    "\\begin{align*}\n",
    "  Y \n",
    "  &= (Y_1, Y_2, Y_3, Y_4) \\\\\n",
    "  &= (X_1 + X_2, X_3, X_4) \\\\\n",
    "\\end{align*}\n",
    "\n",
    "Si se observa $y = \\left(125, 18, 20, 34\\right)$, usar $3$ iteraciones del *algoritmo EM* para aproximar el estimador máximo verosímil de $\\theta$, partiendo del valor inicial $\\theta^{(0)} = 0.5$.\n"
   ]
  },
  {
   "cell_type": "code",
   "execution_count": 27,
   "metadata": {},
   "outputs": [],
   "source": [
    "y <- c(125, 18, 20, 24)\n",
    "theta.zero <- 0.5\n",
    "iterations <- 3"
   ]
  },
  {
   "cell_type": "code",
   "execution_count": 28,
   "metadata": {},
   "outputs": [],
   "source": [
    "p.mapper <- function(theta) {\n",
    "    c(1 / 2, theta / 4, (1 - theta) / 4, (1 - theta) / 4, theta / 4)\n",
    "}"
   ]
  },
  {
   "cell_type": "code",
   "execution_count": 29,
   "metadata": {},
   "outputs": [],
   "source": [
    "minus.likelihood <- function(theta) {\n",
    "    # TODO \n",
    "}"
   ]
  },
  {
   "cell_type": "code",
   "execution_count": 30,
   "metadata": {},
   "outputs": [],
   "source": [
    "conditional.expectation <- function() {\n",
    "    # TODO\n",
    "}"
   ]
  },
  {
   "cell_type": "code",
   "execution_count": 31,
   "metadata": {},
   "outputs": [],
   "source": [
    "for (itr in 1:iterations) {\n",
    "    # TODO\n",
    "}  "
   ]
  }
 ],
 "metadata": {
  "kernelspec": {
   "display_name": "R",
   "language": "R",
   "name": "ir"
  },
  "language_info": {
   "codemirror_mode": "r",
   "file_extension": ".r",
   "mimetype": "text/x-r-source",
   "name": "R",
   "pygments_lexer": "r",
   "version": "3.5.1"
  }
 },
 "nbformat": 4,
 "nbformat_minor": 2
}
