{
 "cells": [
  {
   "cell_type": "markdown",
   "metadata": {
    "ignored": true
   },
   "source": [
    "# Inferencia Estadística\n",
    "## Tarea 1\n",
    "\n",
    "### Autor:\n",
    "- [Sergio García Prado](https://garciparedes.me)"
   ]
  },
  {
   "cell_type": "code",
   "execution_count": 1,
   "metadata": {
    "ignored": true
   },
   "outputs": [],
   "source": [
    "rm(list = ls())"
   ]
  },
  {
   "cell_type": "code",
   "execution_count": 2,
   "metadata": {
    "ignored": true
   },
   "outputs": [],
   "source": [
    "library(magrittr)\n",
    "library(IRdisplay, warn.conflicts = FALSE)\n",
    "library(dplyr, warn.conflicts = FALSE)\n",
    "library(Bhat)"
   ]
  },
  {
   "cell_type": "markdown",
   "metadata": {},
   "source": [
    "# Se lanzan seis monedas en cien ocasiones y se anota el número de caras en cada lanzamiento. Los resultados fueron:"
   ]
  },
  {
   "cell_type": "code",
   "execution_count": 3,
   "metadata": {},
   "outputs": [],
   "source": [
    "coins <- data.frame(tosses = c(0, 1, 2, 3, 4, 5, 6),\n",
    "                    freq = c(2, 8, 10, 12, 16, 30, 22))"
   ]
  },
  {
   "cell_type": "code",
   "execution_count": 4,
   "metadata": {},
   "outputs": [
    {
     "data": {
      "text/html": [
       "<table>\n",
       "<tbody>\n",
       "\t<tr><th scope=row>Número de caras</th><td>0 </td><td>1 </td><td> 2</td><td> 3</td><td> 4</td><td> 5</td><td> 6</td></tr>\n",
       "\t<tr><th scope=row>Frecuencias</th><td>2 </td><td>8 </td><td>10</td><td>12</td><td>16</td><td>30</td><td>22</td></tr>\n",
       "</tbody>\n",
       "</table>\n"
      ],
      "text/latex": [
       "\\begin{tabular}{r|lllllll}\n",
       "\tNúmero de caras & 0  & 1  &  2 &  3 &  4 &  5 &  6\\\\\n",
       "\tFrecuencias & 2  & 8  & 10 & 12 & 16 & 30 & 22\\\\\n",
       "\\end{tabular}\n"
      ],
      "text/markdown": [
       "\n",
       "| Número de caras | 0  | 1  |  2 |  3 |  4 |  5 |  6 | \n",
       "| Frecuencias | 2  | 8  | 10 | 12 | 16 | 30 | 22 | \n",
       "\n",
       "\n"
      ],
      "text/plain": [
       "                [,1] [,2] [,3] [,4] [,5] [,6] [,7]\n",
       "Número de caras 0    1     2    3    4    5    6  \n",
       "Frecuencias     2    8    10   12   16   30   22  "
      ]
     },
     "metadata": {},
     "output_type": "display_data"
    }
   ],
   "source": [
    "coins %>% \n",
    "    set_colnames(c('Número de caras', 'Frecuencias')) %>% \n",
    "    t() %>% \n",
    "    display()"
   ]
  },
  {
   "cell_type": "markdown",
   "metadata": {},
   "source": [
    "## Obtener el $p‐valor$ del test de razón de verosimilitud para contrastar la siguiente hipótesis:\n",
    "$$H_0: \\text{Todas las monedas tienen la misma probabilidad de cara}$$"
   ]
  },
  {
   "cell_type": "markdown",
   "metadata": {},
   "source": [
    "Vamos a definir las siguientes variables aleatorias: \n",
    "\n",
    "$$Y_1,..., Y_6 \\ iid \\quad | \\ Y_i \\sim Bin(n, p_i)$$\n",
    "\n",
    "Donde $n = 100$ es el número de realizaciones de la muestra, tal y como se indica en el enunciado y la variable $Y_i$ representa el *número de caras obtenidas por la moneda i-ésima*. Por tanto, el contraste se puede reescribir utilizando esta notación de tal manera que la hipótesis sea:\n",
    "$$H_0: p_i = p_j \\quad \\forall i, j \\in \\{1,..., 6\\}$$\n",
    "\n",
    "Sin embargo, esto no es lo que se proporciona en la muestra obtenida"
   ]
  },
  {
   "cell_type": "code",
   "execution_count": 5,
   "metadata": {},
   "outputs": [],
   "source": [
    "n <- coins %>%\n",
    "    summarise((max(tosses) * sum(freq))) %>%\n",
    "    pull()"
   ]
  },
  {
   "cell_type": "code",
   "execution_count": 6,
   "metadata": {},
   "outputs": [
    {
     "data": {
      "text/latex": [
       "$$n = 600$$"
      ]
     },
     "metadata": {},
     "output_type": "display_data"
    }
   ],
   "source": [
    "display_latex(paste0('$$n = ', n, '$$'))"
   ]
  },
  {
   "cell_type": "code",
   "execution_count": 7,
   "metadata": {},
   "outputs": [],
   "source": [
    "p.hat <- coins %>%\n",
    "    mutate(total = freq * tosses) %>%\n",
    "    summarise(sum(total) / n) %>%\n",
    "    pull()"
   ]
  },
  {
   "cell_type": "code",
   "execution_count": 8,
   "metadata": {},
   "outputs": [
    {
     "data": {
      "text/latex": [
       "$$\\hat{p} = 0.6833$$"
      ]
     },
     "metadata": {},
     "output_type": "display_data"
    }
   ],
   "source": [
    "display_latex(paste0('$$\\\\hat{p} = ', round(p.hat, digits = 4), '$$'))"
   ]
  },
  {
   "cell_type": "code",
   "execution_count": 9,
   "metadata": {},
   "outputs": [],
   "source": [
    "coins <- coins %>%\n",
    "    mutate(freq.rel = freq / sum(freq))"
   ]
  },
  {
   "cell_type": "code",
   "execution_count": 10,
   "metadata": {},
   "outputs": [
    {
     "data": {
      "text/html": [
       "<table>\n",
       "<tbody>\n",
       "\t<tr><th scope=row>Número de caras</th><td>0.00 </td><td>1.00 </td><td> 2.0 </td><td> 3.00</td><td> 4.00</td><td> 5.0 </td><td> 6.00</td></tr>\n",
       "\t<tr><th scope=row>Frecuencias</th><td>2.00 </td><td>8.00 </td><td>10.0 </td><td>12.00</td><td>16.00</td><td>30.0 </td><td>22.00</td></tr>\n",
       "\t<tr><th scope=row>Frecuencias Relativas</th><td>0.02 </td><td>0.08 </td><td> 0.1 </td><td> 0.12</td><td> 0.16</td><td> 0.3 </td><td> 0.22</td></tr>\n",
       "</tbody>\n",
       "</table>\n"
      ],
      "text/latex": [
       "\\begin{tabular}{r|lllllll}\n",
       "\tNúmero de caras & 0.00  & 1.00  &  2.0  &  3.00 &  4.00 &  5.0  &  6.00\\\\\n",
       "\tFrecuencias & 2.00  & 8.00  & 10.0  & 12.00 & 16.00 & 30.0  & 22.00\\\\\n",
       "\tFrecuencias Relativas & 0.02  & 0.08  &  0.1  &  0.12 &  0.16 &  0.3  &  0.22\\\\\n",
       "\\end{tabular}\n"
      ],
      "text/markdown": [
       "\n",
       "| Número de caras | 0.00  | 1.00  |  2.0  |  3.00 |  4.00 |  5.0  |  6.00 | \n",
       "| Frecuencias | 2.00  | 8.00  | 10.0  | 12.00 | 16.00 | 30.0  | 22.00 | \n",
       "| Frecuencias Relativas | 0.02  | 0.08  |  0.1  |  0.12 |  0.16 |  0.3  |  0.22 | \n",
       "\n",
       "\n"
      ],
      "text/plain": [
       "                      [,1] [,2] [,3] [,4]  [,5]  [,6] [,7] \n",
       "Número de caras       0.00 1.00  2.0  3.00  4.00  5.0  6.00\n",
       "Frecuencias           2.00 8.00 10.0 12.00 16.00 30.0 22.00\n",
       "Frecuencias Relativas 0.02 0.08  0.1  0.12  0.16  0.3  0.22"
      ]
     },
     "metadata": {},
     "output_type": "display_data"
    }
   ],
   "source": [
    "coins %>% \n",
    "    set_colnames(c('Número de caras', 'Frecuencias', 'Frecuencias Relativas')) %>% \n",
    "    t() %>% \n",
    "    round(digits = 4) %>%\n",
    "    display()"
   ]
  },
  {
   "cell_type": "code",
   "execution_count": 11,
   "metadata": {},
   "outputs": [],
   "source": [
    "coins <- coins %>%\n",
    "    mutate(expected.freq.rel = dbinom(0:6, 6, p.hat))"
   ]
  },
  {
   "cell_type": "code",
   "execution_count": 12,
   "metadata": {},
   "outputs": [
    {
     "data": {
      "text/html": [
       "<table>\n",
       "<tbody>\n",
       "\t<tr><th scope=row>Número de caras</th><td>0.000  </td><td>1.0000 </td><td> 2.0000</td><td> 3.0000</td><td> 4.000 </td><td> 5.0000</td><td> 6.0000</td></tr>\n",
       "\t<tr><th scope=row>Frecuencias</th><td>2.000  </td><td>8.0000 </td><td>10.0000</td><td>12.0000</td><td>16.000 </td><td>30.0000</td><td>22.0000</td></tr>\n",
       "\t<tr><th scope=row>Frecuencias Relativas</th><td>0.020  </td><td>0.0800 </td><td> 0.1000</td><td> 0.1200</td><td> 0.160 </td><td> 0.3000</td><td> 0.2200</td></tr>\n",
       "\t<tr><th scope=row>Frecuencias Relativas Esperadas</th><td>0.001  </td><td>0.0131 </td><td> 0.0704</td><td> 0.2026</td><td> 0.328 </td><td> 0.2831</td><td> 0.1018</td></tr>\n",
       "</tbody>\n",
       "</table>\n"
      ],
      "text/latex": [
       "\\begin{tabular}{r|lllllll}\n",
       "\tNúmero de caras & 0.000   & 1.0000  &  2.0000 &  3.0000 &  4.000  &  5.0000 &  6.0000\\\\\n",
       "\tFrecuencias & 2.000   & 8.0000  & 10.0000 & 12.0000 & 16.000  & 30.0000 & 22.0000\\\\\n",
       "\tFrecuencias Relativas & 0.020   & 0.0800  &  0.1000 &  0.1200 &  0.160  &  0.3000 &  0.2200\\\\\n",
       "\tFrecuencias Relativas Esperadas & 0.001   & 0.0131  &  0.0704 &  0.2026 &  0.328  &  0.2831 &  0.1018\\\\\n",
       "\\end{tabular}\n"
      ],
      "text/markdown": [
       "\n",
       "| Número de caras | 0.000   | 1.0000  |  2.0000 |  3.0000 |  4.000  |  5.0000 |  6.0000 | \n",
       "| Frecuencias | 2.000   | 8.0000  | 10.0000 | 12.0000 | 16.000  | 30.0000 | 22.0000 | \n",
       "| Frecuencias Relativas | 0.020   | 0.0800  |  0.1000 |  0.1200 |  0.160  |  0.3000 |  0.2200 | \n",
       "| Frecuencias Relativas Esperadas | 0.001   | 0.0131  |  0.0704 |  0.2026 |  0.328  |  0.2831 |  0.1018 | \n",
       "\n",
       "\n"
      ],
      "text/plain": [
       "                                [,1]  [,2]   [,3]    [,4]    [,5]   [,6]   \n",
       "Número de caras                 0.000 1.0000  2.0000  3.0000  4.000  5.0000\n",
       "Frecuencias                     2.000 8.0000 10.0000 12.0000 16.000 30.0000\n",
       "Frecuencias Relativas           0.020 0.0800  0.1000  0.1200  0.160  0.3000\n",
       "Frecuencias Relativas Esperadas 0.001 0.0131  0.0704  0.2026  0.328  0.2831\n",
       "                                [,7]   \n",
       "Número de caras                  6.0000\n",
       "Frecuencias                     22.0000\n",
       "Frecuencias Relativas            0.2200\n",
       "Frecuencias Relativas Esperadas  0.1018"
      ]
     },
     "metadata": {},
     "output_type": "display_data"
    }
   ],
   "source": [
    "coins %>% \n",
    "    set_colnames(c('Número de caras', 'Frecuencias', 'Frecuencias Relativas',\n",
    "                   'Frecuencias Relativas Esperadas')) %>% \n",
    "    t() %>% \n",
    "    round(digits = 4) %>%\n",
    "    display()"
   ]
  },
  {
   "cell_type": "code",
   "execution_count": 13,
   "metadata": {},
   "outputs": [],
   "source": [
    "G <- coins %>%\n",
    "    summarise(2 * sum(expected.freq.rel * log(expected.freq.rel / freq.rel))) %>%\n",
    "    pull()"
   ]
  },
  {
   "cell_type": "code",
   "execution_count": 14,
   "metadata": {},
   "outputs": [
    {
     "data": {
      "text/latex": [
       "$$G = 0.3906$$"
      ]
     },
     "metadata": {},
     "output_type": "display_data"
    }
   ],
   "source": [
    "display_latex(paste0('$$G = ', round(G, 4), '$$'))"
   ]
  },
  {
   "cell_type": "code",
   "execution_count": 15,
   "metadata": {},
   "outputs": [],
   "source": [
    "pvalue <- pchisq(G, df=6)"
   ]
  },
  {
   "cell_type": "code",
   "execution_count": 16,
   "metadata": {},
   "outputs": [
    {
     "data": {
      "text/latex": [
       "$$p-valor = 0.0011$$"
      ]
     },
     "metadata": {},
     "output_type": "display_data"
    }
   ],
   "source": [
    "display_latex(paste0('$$p-valor = ', round(pvalue, 4), '$$'))"
   ]
  },
  {
   "cell_type": "markdown",
   "metadata": {},
   "source": [
    "## En el modelo que define la hipótesis nula obtener intervalos de confianza ($95\\%$) para el parámetro, basados en los estadísticos de *Wald (W)* y de *razón de verosimilitud (VR)*."
   ]
  },
  {
   "cell_type": "code",
   "execution_count": 17,
   "metadata": {},
   "outputs": [],
   "source": [
    "alpha <- 0.05"
   ]
  },
  {
   "cell_type": "markdown",
   "metadata": {},
   "source": [
    "Cálculo por ecuación explícita"
   ]
  },
  {
   "cell_type": "code",
   "execution_count": 18,
   "metadata": {},
   "outputs": [],
   "source": [
    "W.var <- p.hat * (1 - p.hat) / n\n",
    "W.IC <- p.hat + c(-1, 1) * qnorm(1 - alpha / 2) * sqrt(W.var)"
   ]
  },
  {
   "cell_type": "code",
   "execution_count": 19,
   "metadata": {},
   "outputs": [
    {
     "data": {
      "text/latex": [
       "$$\\left(0.64611, 0.72055\\right)$$"
      ]
     },
     "metadata": {},
     "output_type": "display_data"
    }
   ],
   "source": [
    "display_latex(paste0('$$\\\\left(', round(W.IC[1], 5), ', ', round(W.IC[2], 5) , '\\\\right)$$'))"
   ]
  },
  {
   "cell_type": "markdown",
   "metadata": {},
   "source": [
    "Cálculo por optimización numérica"
   ]
  },
  {
   "cell_type": "code",
   "execution_count": 20,
   "metadata": {},
   "outputs": [],
   "source": [
    "nloglhood <- function(p, n = 600, y = 410) {\n",
    "    return( -(log(choose(n, y)) + y * log(p) + (n - y) *log(1 - p)) )\n",
    "}"
   ]
  },
  {
   "cell_type": "code",
   "execution_count": 21,
   "metadata": {},
   "outputs": [],
   "source": [
    "opt <- optim(0.5, nloglhood,lower = 0.0001,upper = 0.9999, \n",
    "             hessian = TRUE, method = \"L-BFGS-B\")\n",
    "phat <- opt$par\n",
    "phat.var <- as.numeric(1 / opt$hessian)"
   ]
  },
  {
   "cell_type": "code",
   "execution_count": 22,
   "metadata": {},
   "outputs": [
    {
     "data": {
      "text/html": [
       "<ol class=list-inline>\n",
       "\t<li>0.646111848300026</li>\n",
       "\t<li>0.720553688712397</li>\n",
       "</ol>\n"
      ],
      "text/latex": [
       "\\begin{enumerate*}\n",
       "\\item 0.646111848300026\n",
       "\\item 0.720553688712397\n",
       "\\end{enumerate*}\n"
      ],
      "text/markdown": [
       "1. 0.646111848300026\n",
       "2. 0.720553688712397\n",
       "\n",
       "\n"
      ],
      "text/plain": [
       "[1] 0.6461118 0.7205537"
      ]
     },
     "metadata": {},
     "output_type": "display_data"
    }
   ],
   "source": [
    "phat + c(-1, 1) * qnorm(1 - alpha / 2) * sqrt(phat.var)"
   ]
  },
  {
   "cell_type": "code",
   "execution_count": 23,
   "metadata": {},
   "outputs": [],
   "source": [
    "control.list=list(label=\"p\",est=p.hat,low=0,upp=1)\n",
    "invisible(capture.output(LR.ci <- plkhci(control.list, nloglhood, \"p\")))"
   ]
  },
  {
   "cell_type": "code",
   "execution_count": 24,
   "metadata": {},
   "outputs": [
    {
     "data": {
      "text/html": [
       "<ol class=list-inline>\n",
       "\t<li>0.645386613311019</li>\n",
       "\t<li>0.719718791742196</li>\n",
       "</ol>\n"
      ],
      "text/latex": [
       "\\begin{enumerate*}\n",
       "\\item 0.645386613311019\n",
       "\\item 0.719718791742196\n",
       "\\end{enumerate*}\n"
      ],
      "text/markdown": [
       "1. 0.645386613311019\n",
       "2. 0.719718791742196\n",
       "\n",
       "\n"
      ],
      "text/plain": [
       "[1] 0.6453866 0.7197188"
      ]
     },
     "metadata": {},
     "output_type": "display_data"
    }
   ],
   "source": [
    "LR.ci"
   ]
  },
  {
   "cell_type": "markdown",
   "metadata": {},
   "source": [
    "# Considerar el vector aleatorio $X = (X_1, ..., X_5)$ con distribución multinomial, tal que $p = \\left(\\frac{1}{2}, \\frac{\\theta}{4}, \\frac{1 - \\theta}{4}, \\frac{1 - \\theta}{4}, \\frac{\\theta}{4}\\right)$\n",
    "\n",
    "Si el valor observado de $Y$ es $y = \\left(125, 18, 20, 34\\right)$, usar $3$ iteraciones del *algoritmo EM* para aproximar el estimador máximo verosímil de $\\theta$, partiendo del valor inicial $\\theta^{(0)} = 0.5$."
   ]
  },
  {
   "cell_type": "code",
   "execution_count": 25,
   "metadata": {},
   "outputs": [],
   "source": [
    "# TODO"
   ]
  }
 ],
 "metadata": {
  "kernelspec": {
   "display_name": "R",
   "language": "R",
   "name": "ir"
  },
  "language_info": {
   "codemirror_mode": "r",
   "file_extension": ".r",
   "mimetype": "text/x-r-source",
   "name": "R",
   "pygments_lexer": "r",
   "version": "3.5.1"
  }
 },
 "nbformat": 4,
 "nbformat_minor": 2
}
